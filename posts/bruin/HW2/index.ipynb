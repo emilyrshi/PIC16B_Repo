{
 "cells": [
  {
   "cell_type": "raw",
   "id": "40724a85",
   "metadata": {},
   "source": [
    "---\n",
    "title: \"HW2\"\n",
    "author: \"Emily Shi\"\n",
    "date: \"2024-02-12\"\n",
    "categories: [week 4, homework]\n",
    "---"
   ]
  },
  {
   "cell_type": "markdown",
   "id": "678e200e",
   "metadata": {},
   "source": [
    "# Web Scraping: Searching for Actors in Movies/TV Shows and My Recommendations of Top Works with Shared Actors"
   ]
  },
  {
   "cell_type": "markdown",
   "id": "d206c541",
   "metadata": {},
   "source": [
    "This activity aims to find the works of actors in a certain movie only under a specific category: \"Acting.\" Some actors may also hold other positions on other teams, such as a stunt double on \"Crew\" or an assistant director on \"Production,\" but this activity is only interested in the \"Acting\" positions of the \"actors\" within a specific movie."
   ]
  },
  {
   "cell_type": "markdown",
   "id": "1988d53c",
   "metadata": {},
   "source": [
    "In the following tutorial, I will be demonstrating the webscraping process using the TMDB sites of two movies: first from the example movie, *Harry Potter and the Philosopher's Stone*, and later from my favorite movie, *Kill Bill: Vol. 1*."
   ]
  },
  {
   "cell_type": "markdown",
   "id": "410ae71d",
   "metadata": {},
   "source": [
    "## Part 1: Initial Steps "
   ]
  },
  {
   "cell_type": "markdown",
   "id": "079c4ab5",
   "metadata": {},
   "source": [
    "### TMDB Page: *Harry Potter and the Philosopher's Stone* "
   ]
  },
  {
   "cell_type": "markdown",
   "id": "047f82e5",
   "metadata": {},
   "source": [
    "My scraper will look at all of the actors in this movie as well as all of the other movies/TV shows that they worked on. Writing my scraper then requires me to inspect the individual HTML elements using the Developer Tools of my browser that contain the names and works that I am looking for."
   ]
  },
  {
   "cell_type": "markdown",
   "id": "e3918aac",
   "metadata": {},
   "source": [
    "Upon landing on the TMDB page for this movie, I first save the url."
   ]
  },
  {
   "cell_type": "markdown",
   "id": "b5641d2e",
   "metadata": {},
   "source": [
    "https://www.themoviedb.org/movie/671-harry-potter-and-the-philosopher-s-stone/"
   ]
  },
  {
   "cell_type": "markdown",
   "id": "ae40b33b",
   "metadata": {},
   "source": [
    "I then scroll down to the *Full Cast & Crew* link, click on it, and then scroll to the *Cast* section. When I click on the portrait of one of the actors, I am taken to that specific actor's TMDB page. Each actor's page contains the information that I am interested in, which is the movies/TV shows that that actor worked on specifically under the \"Acting\" category."
   ]
  },
  {
   "cell_type": "markdown",
   "id": "64e53d27",
   "metadata": {},
   "source": [
    "### Terminal Commands"
   ]
  },
  {
   "cell_type": "markdown",
   "id": "3f694f12",
   "metadata": {},
   "source": [
    "In the terminal, run the commands:"
   ]
  },
  {
   "cell_type": "markdown",
   "id": "2282e9e6",
   "metadata": {},
   "source": [
    "conda activate PIC16B-24W\n",
    "scrapy startproject TMDB_scraper\n",
    "cd TMDB_scraper"
   ]
  },
  {
   "cell_type": "markdown",
   "id": "3581f2d8",
   "metadata": {},
   "source": [
    "#### Tweaking the Settings "
   ]
  },
  {
   "cell_type": "markdown",
   "id": "e23b968e",
   "metadata": {},
   "source": [
    "In the settings.py file, add the following line:\n",
    "\n",
    "CLOSESPIDER_PAGECOUNT = 20\n",
    "\n",
    "This line prevents the scraper from downloading an excessive amount of data during my testing phase. Later, this line will be removed.\n",
    "\n",
    "Additionally:\n",
    "\n",
    "scrapy shell -s USER_AGENT='Scrapy/2.8.0 (+https://scrapy.org)' https://www.themoviedb.org/...\n",
    "\n",
    "This changes the user agent on scrapy shell so that the website does not block my scraper."
   ]
  },
  {
   "cell_type": "markdown",
   "id": "271c8685",
   "metadata": {},
   "source": [
    "## Part 2: TmdbSpider Scraper (for Harry Potter Example)"
   ]
  },
  {
   "cell_type": "markdown",
   "id": "5140cc30",
   "metadata": {},
   "source": [
    "A file called tmdb_spider.py will be created inside the spiders directory that includes the following lines."
   ]
  },
  {
   "cell_type": "code",
   "execution_count": 1,
   "id": "c8a05c1a",
   "metadata": {},
   "outputs": [],
   "source": [
    "import scrapy"
   ]
  },
  {
   "cell_type": "code",
   "execution_count": 2,
   "id": "171dbb9f",
   "metadata": {},
   "outputs": [],
   "source": [
    "class TmdbSpider(scrapy.Spider):\n",
    "    name = 'tmdb_spider'\n",
    "    def __init__(self, subdir=None, *args, **kwargs):\n",
    "        self.start_urls = [f\"https://www.themoviedb.org/movie/{subdir}/\"]"
   ]
  },
  {
   "cell_type": "markdown",
   "id": "e5dfcc46",
   "metadata": {},
   "source": [
    "By later providing a subdirectory (subdir) on the TMDB website that is specific to Kill Bill: Vol. 1, the spider will be able to run through that movie."
   ]
  },
  {
   "cell_type": "markdown",
   "id": "e0ec2742",
   "metadata": {},
   "source": [
    "There are 3 parsing functions that belong to the TmdbSpider class."
   ]
  },
  {
   "cell_type": "markdown",
   "id": "de62f6bd",
   "metadata": {},
   "source": [
    "### Implementation of parse()"
   ]
  },
  {
   "cell_type": "markdown",
   "id": "66dbd79d",
   "metadata": {},
   "source": [
    "This function starts on the movie page and then navigates to the *Full Cast & Crew* page through cast_crew_url. Once on that page, the parse_full_credits() function is called by a callback argument to a yielded Scrapy request."
   ]
  },
  {
   "cell_type": "code",
   "execution_count": 3,
   "id": "d10ab1f0",
   "metadata": {},
   "outputs": [],
   "source": [
    "def parse(self, response):\n",
    "            \"\"\"\n",
    "            Parses the starting url page for the favorite movie by\n",
    "            first navigating to the Full Cast and Crew Page from\n",
    "            the movie page.\n",
    "\n",
    "            Does not return any data.\n",
    "            \"\"\"\n",
    "            # starting url plus cast at end\n",
    "            cast_crew_url = response.url + \"/cast\"\n",
    "\n",
    "            # ask scrapy to visit the cast_crew link and once it gets there,\n",
    "            # call self.parse_full_credits() recursively\n",
    "            yield scrapy.Request(cast_crew_url, callback=self.parse_full_credits)"
   ]
  },
  {
   "cell_type": "markdown",
   "id": "6a92226b",
   "metadata": {},
   "source": [
    "### Implementation of parse_full_credits()"
   ]
  },
  {
   "cell_type": "markdown",
   "id": "cbdca0fd",
   "metadata": {},
   "source": [
    "This function starts on the *Full Cast & Crew* page and yields a Scrapy request for each actor's personal page (actors only, no crew members). Once on that page, the parse_actor_page() function is called by a callback argument to a yielded Scrapy request."
   ]
  },
  {
   "cell_type": "code",
   "execution_count": 4,
   "id": "d00d362d",
   "metadata": {},
   "outputs": [],
   "source": [
    "def parse_full_credits(self, response):\n",
    "        \"\"\"\n",
    "        Starts on the Full Cast & Crew page\n",
    "        Yields a scrapy Request for the page of each actor listed on the \n",
    "        page (not including the crew members).\n",
    "\n",
    "        Does not return any data.\n",
    "        \"\"\"\n",
    "        # list of links for the actors' pages as displayed in the Full Cast and Crew\n",
    "        main_url = \"https://www.themoviedb.org\"\n",
    "\n",
    "        # [0]: category being \"Cast\" \n",
    "        for link in response.css(\"ol.people.credits\")[0].css(\"li\"):\n",
    "            # gets the link of that actor's page\n",
    "            actor_page = link.css(\"a::attr(href)\").get()\n",
    "            actor_url = f'{main_url}{actor_page}'\n",
    "            yield scrapy.Request(actor_url, callback=self.parse_actor_page)"
   ]
  },
  {
   "cell_type": "markdown",
   "id": "44b82808",
   "metadata": {},
   "source": [
    "### Implementation of parse_actor_page()"
   ]
  },
  {
   "cell_type": "markdown",
   "id": "290aee57",
   "metadata": {},
   "source": [
    "This function starts on the individual actor's page and yields a dictionary containing the name of the actor (keys) and the movie/TV show name the actor was in (values). Specifically, we are only interested in the works under the \"Acting\" category of that actor. As a reuslt, one actor's name could appear many times if that actor had been in many movies/TV shows. "
   ]
  },
  {
   "cell_type": "code",
   "execution_count": 5,
   "id": "355359ff",
   "metadata": {},
   "outputs": [],
   "source": [
    "    def parse_actor_page(self, response):\n",
    "        \"\"\"\n",
    "        On each individual's page\n",
    "        Yields a dictionary of the actor name (key) and that actor's works\n",
    "        under only the \"Acting\" category \n",
    "        \"\"\"\n",
    "        actor_name_CSS = response.css(\"h2.title a::text\").get()\n",
    "        # checks for the h3 category of \"Acting\" regardless of index number because \n",
    "        # some of the individuals such as David Holmes does not have \"Acting\" as \n",
    "        # their first category unlike most others\n",
    "        if response.css('h3.zero:contains(\"Acting\")'):\n",
    "            index = 0;\n",
    "        elif response.css('h3.one:contains(\"Acting\")'):\n",
    "            index = 1;\n",
    "        elif response.css('h3.two:contains(\"Acting\")'):\n",
    "            index = 2;\n",
    "        # gets the works of only the \"Acting\" category\n",
    "        movie_or_TV_CSS = response.css(\"table.card.credits\")[index].css(\"a.tooltip bdi::text\")\n",
    "        for each_work in movie_or_TV_CSS:\n",
    "            movie_or_TV_name = each_work.get()\n",
    "            yield {\"actor\" : actor_name_CSS, \n",
    "                   \"movie_or_TV_name\" : movie_or_TV_name}"
   ]
  },
  {
   "cell_type": "markdown",
   "id": "c79654cc",
   "metadata": {},
   "source": [
    "### Creating results.csv:"
   ]
  },
  {
   "cell_type": "markdown",
   "id": "e613a91c",
   "metadata": {},
   "source": [
    "Once all functions are correctly implemented, the following command creates a results.csv that contains all actors in *Harry Potter and the Philosopher's Stone* and their \"Acting\" works in key-value pairs."
   ]
  },
  {
   "cell_type": "markdown",
   "id": "7de6b394",
   "metadata": {},
   "source": [
    "scrapy crawl tmdb_spider -o results.csv -a subdir=671-harry-potter-and-the-philosopher-s-stone"
   ]
  },
  {
   "cell_type": "markdown",
   "id": "e8aefd7d",
   "metadata": {},
   "source": [
    "## Part 3: My Recommendations "
   ]
  },
  {
   "cell_type": "markdown",
   "id": "b287fb8f",
   "metadata": {},
   "source": [
    "## Sorted List with Top Movies/TV Shows that Share Actors with My Favorite Movie/TV Show "
   ]
  },
  {
   "cell_type": "markdown",
   "id": "dd8aee1b",
   "metadata": {},
   "source": [
    "This is a sorted list containing the top movies and TV shoes that share actors with my favorite movie: Kill Bill Volume 1. It has two columns: the names of the movies and the number of shared actors."
   ]
  },
  {
   "cell_type": "markdown",
   "id": "75d5a59b",
   "metadata": {},
   "source": [
    "Using the functions used to scrape the Harry Potter movie, I will generate a new file for the Kill Bill actors and their works. "
   ]
  },
  {
   "cell_type": "markdown",
   "id": "a74539cf",
   "metadata": {},
   "source": [
    "#### In Terminal: "
   ]
  },
  {
   "cell_type": "markdown",
   "id": "b8db2b86",
   "metadata": {},
   "source": [
    "scrapy crawl tmdb_spider -o resultsFavMovie.csv -a subdir=24-kill-bill-vol-1"
   ]
  },
  {
   "cell_type": "markdown",
   "id": "de43e000",
   "metadata": {},
   "source": [
    "### Pandas Dataframe "
   ]
  },
  {
   "cell_type": "code",
   "execution_count": 6,
   "id": "64c62f46",
   "metadata": {},
   "outputs": [],
   "source": [
    "import pandas as pd\n",
    "import numpy as np"
   ]
  },
  {
   "cell_type": "code",
   "execution_count": 7,
   "id": "ca97c617",
   "metadata": {},
   "outputs": [],
   "source": [
    "# read in csv file for Kill Bill actors + their movies/shows\n",
    "filename = \"resultsFavMovie.csv\"\n",
    "killBill_actorsMovies = pd.read_csv(filename)"
   ]
  },
  {
   "cell_type": "code",
   "execution_count": 8,
   "id": "c59f6064",
   "metadata": {},
   "outputs": [
    {
     "data": {
      "text/html": [
       "<div>\n",
       "<style scoped>\n",
       "    .dataframe tbody tr th:only-of-type {\n",
       "        vertical-align: middle;\n",
       "    }\n",
       "\n",
       "    .dataframe tbody tr th {\n",
       "        vertical-align: top;\n",
       "    }\n",
       "\n",
       "    .dataframe thead th {\n",
       "        text-align: right;\n",
       "    }\n",
       "</style>\n",
       "<table border=\"1\" class=\"dataframe\">\n",
       "  <thead>\n",
       "    <tr style=\"text-align: right;\">\n",
       "      <th></th>\n",
       "      <th>Actor</th>\n",
       "      <th>Movie or TV Name</th>\n",
       "    </tr>\n",
       "  </thead>\n",
       "  <tbody>\n",
       "    <tr>\n",
       "      <th>0</th>\n",
       "      <td>Uma Thurman</td>\n",
       "      <td>The Old Guard 2</td>\n",
       "    </tr>\n",
       "    <tr>\n",
       "      <th>1</th>\n",
       "      <td>Uma Thurman</td>\n",
       "      <td>Oh, Canada</td>\n",
       "    </tr>\n",
       "    <tr>\n",
       "      <th>2</th>\n",
       "      <td>Uma Thurman</td>\n",
       "      <td>Tau Ceti Foxtrot</td>\n",
       "    </tr>\n",
       "    <tr>\n",
       "      <th>3</th>\n",
       "      <td>Uma Thurman</td>\n",
       "      <td>Anita</td>\n",
       "    </tr>\n",
       "    <tr>\n",
       "      <th>4</th>\n",
       "      <td>Uma Thurman</td>\n",
       "      <td>The Kill Room</td>\n",
       "    </tr>\n",
       "    <tr>\n",
       "      <th>...</th>\n",
       "      <td>...</td>\n",
       "      <td>...</td>\n",
       "    </tr>\n",
       "    <tr>\n",
       "      <th>3767</th>\n",
       "      <td>Sō Yamanaka</td>\n",
       "      <td>Not Forgotten</td>\n",
       "    </tr>\n",
       "    <tr>\n",
       "      <th>3768</th>\n",
       "      <td>Sō Yamanaka</td>\n",
       "      <td>The Exam</td>\n",
       "    </tr>\n",
       "    <tr>\n",
       "      <th>3769</th>\n",
       "      <td>Sō Yamanaka</td>\n",
       "      <td>Ping Pong Bath Station</td>\n",
       "    </tr>\n",
       "    <tr>\n",
       "      <th>3770</th>\n",
       "      <td>Sō Yamanaka</td>\n",
       "      <td>Yonimo Kimyou na Monogatari Tokubetsuhen</td>\n",
       "    </tr>\n",
       "    <tr>\n",
       "      <th>3771</th>\n",
       "      <td>Sō Yamanaka</td>\n",
       "      <td>Kamen Rider</td>\n",
       "    </tr>\n",
       "  </tbody>\n",
       "</table>\n",
       "<p>3772 rows × 2 columns</p>\n",
       "</div>"
      ],
      "text/plain": [
       "            Actor                          Movie or TV Name\n",
       "0     Uma Thurman                           The Old Guard 2\n",
       "1     Uma Thurman                                Oh, Canada\n",
       "2     Uma Thurman                          Tau Ceti Foxtrot\n",
       "3     Uma Thurman                                     Anita\n",
       "4     Uma Thurman                             The Kill Room\n",
       "...           ...                                       ...\n",
       "3767  Sō Yamanaka                             Not Forgotten\n",
       "3768  Sō Yamanaka                                  The Exam\n",
       "3769  Sō Yamanaka                    Ping Pong Bath Station\n",
       "3770  Sō Yamanaka  Yonimo Kimyou na Monogatari Tokubetsuhen\n",
       "3771  Sō Yamanaka                               Kamen Rider\n",
       "\n",
       "[3772 rows x 2 columns]"
      ]
     },
     "execution_count": 8,
     "metadata": {},
     "output_type": "execute_result"
    }
   ],
   "source": [
    "# rename the dictionary\n",
    "rename_dict = {\"actor\" : \"Actor\",\n",
    "               \"movie_or_TV_name\" : \"Movie or TV Name\"}\n",
    "killBill_actorsMovies.rename(columns = rename_dict, inplace = True)\n",
    "\n",
    "# displaying the dataframe with renamed columns\n",
    "killBill_actorsMovies"
   ]
  },
  {
   "cell_type": "markdown",
   "id": "b3fc5e01",
   "metadata": {},
   "source": [
    "Now, I will create a dictionary containing each movie as the key and the number of times that movie appears in the killBill_actorsMovies dataframe. The frequency represents the number of shared actors in the movie because the same movie name appearing again means another actor is in that movie as well."
   ]
  },
  {
   "cell_type": "code",
   "execution_count": 9,
   "id": "b8f39fa7",
   "metadata": {},
   "outputs": [],
   "source": [
    "# initializing the dictionary containing the movie name and its\n",
    "# frequency of occurence\n",
    "movie_freq_dict = {}\n",
    "\n",
    "# loop through the movie names and increase the count when the movie\n",
    "# name appears again\n",
    "for each_movie in killBill_actorsMovies[\"Movie or TV Name\"]:\n",
    "    # if the movie is NOT already in the dictionary, add it\n",
    "    if movie_freq_dict.get(each_movie) == None:\n",
    "        movie_freq_dict[each_movie] = 1\n",
    "    # else if the movie is already in the dictionary, increase the \n",
    "    # count when it reappears\n",
    "    else:\n",
    "        movie_freq_dict[each_movie] += 1"
   ]
  },
  {
   "cell_type": "code",
   "execution_count": 10,
   "id": "e6635fd2",
   "metadata": {},
   "outputs": [
    {
     "data": {
      "text/html": [
       "<div>\n",
       "<style scoped>\n",
       "    .dataframe tbody tr th:only-of-type {\n",
       "        vertical-align: middle;\n",
       "    }\n",
       "\n",
       "    .dataframe tbody tr th {\n",
       "        vertical-align: top;\n",
       "    }\n",
       "\n",
       "    .dataframe thead th {\n",
       "        text-align: right;\n",
       "    }\n",
       "</style>\n",
       "<table border=\"1\" class=\"dataframe\">\n",
       "  <thead>\n",
       "    <tr style=\"text-align: right;\">\n",
       "      <th></th>\n",
       "      <th>Movie or TV Name</th>\n",
       "      <th>Number of Shared Actors</th>\n",
       "    </tr>\n",
       "  </thead>\n",
       "  <tbody>\n",
       "    <tr>\n",
       "      <th>0</th>\n",
       "      <td>The Old Guard 2</td>\n",
       "      <td>1</td>\n",
       "    </tr>\n",
       "    <tr>\n",
       "      <th>1</th>\n",
       "      <td>Oh, Canada</td>\n",
       "      <td>1</td>\n",
       "    </tr>\n",
       "    <tr>\n",
       "      <th>2</th>\n",
       "      <td>Tau Ceti Foxtrot</td>\n",
       "      <td>1</td>\n",
       "    </tr>\n",
       "    <tr>\n",
       "      <th>3</th>\n",
       "      <td>Anita</td>\n",
       "      <td>1</td>\n",
       "    </tr>\n",
       "    <tr>\n",
       "      <th>4</th>\n",
       "      <td>The Kill Room</td>\n",
       "      <td>1</td>\n",
       "    </tr>\n",
       "    <tr>\n",
       "      <th>...</th>\n",
       "      <td>...</td>\n",
       "      <td>...</td>\n",
       "    </tr>\n",
       "    <tr>\n",
       "      <th>3344</th>\n",
       "      <td>Hush!</td>\n",
       "      <td>1</td>\n",
       "    </tr>\n",
       "    <tr>\n",
       "      <th>3345</th>\n",
       "      <td>Gips</td>\n",
       "      <td>1</td>\n",
       "    </tr>\n",
       "    <tr>\n",
       "      <th>3346</th>\n",
       "      <td>Not Forgotten</td>\n",
       "      <td>1</td>\n",
       "    </tr>\n",
       "    <tr>\n",
       "      <th>3347</th>\n",
       "      <td>The Exam</td>\n",
       "      <td>1</td>\n",
       "    </tr>\n",
       "    <tr>\n",
       "      <th>3348</th>\n",
       "      <td>Ping Pong Bath Station</td>\n",
       "      <td>1</td>\n",
       "    </tr>\n",
       "  </tbody>\n",
       "</table>\n",
       "<p>3349 rows × 2 columns</p>\n",
       "</div>"
      ],
      "text/plain": [
       "            Movie or TV Name  Number of Shared Actors\n",
       "0            The Old Guard 2                        1\n",
       "1                 Oh, Canada                        1\n",
       "2           Tau Ceti Foxtrot                        1\n",
       "3                      Anita                        1\n",
       "4              The Kill Room                        1\n",
       "...                      ...                      ...\n",
       "3344                   Hush!                        1\n",
       "3345                    Gips                        1\n",
       "3346           Not Forgotten                        1\n",
       "3347                The Exam                        1\n",
       "3348  Ping Pong Bath Station                        1\n",
       "\n",
       "[3349 rows x 2 columns]"
      ]
     },
     "execution_count": 10,
     "metadata": {},
     "output_type": "execute_result"
    }
   ],
   "source": [
    "# create a new dataframe that takes in the movie names as keys and the\n",
    "# frequency of occurence for each movie as their values\n",
    "shared_actors = pd.DataFrame({\"Movie or TV Name\" : movie_freq_dict.keys(),\n",
    "                             \"Number of Shared Actors\" : movie_freq_dict.values()})\n",
    "\n",
    "# find the row with \"Kill Bill: Vol. 1\" and move it to the top row\n",
    "# killBill_frontOfDF = shared_actors[shared_actors[\"Movie or TV Name\"].str.contains(\"Kill Bill: Vol. 1\")]\n",
    "# killBill_frontOfDF\n",
    "\n",
    "shared_actors"
   ]
  },
  {
   "cell_type": "markdown",
   "id": "6f326c45",
   "metadata": {},
   "source": [
    "To make the dataframe more detailed, it would be nice to see which actors from Kill Bill are in the same movies together. This would mean merging the two dataframes and desginating an additional column for the names of the Kill Bill actors that are also in these other movies together. These are the \"shared actors\" of each movie."
   ]
  },
  {
   "cell_type": "code",
   "execution_count": 11,
   "id": "868e3604",
   "metadata": {},
   "outputs": [
    {
     "data": {
      "text/html": [
       "<div>\n",
       "<style scoped>\n",
       "    .dataframe tbody tr th:only-of-type {\n",
       "        vertical-align: middle;\n",
       "    }\n",
       "\n",
       "    .dataframe tbody tr th {\n",
       "        vertical-align: top;\n",
       "    }\n",
       "\n",
       "    .dataframe thead th {\n",
       "        text-align: right;\n",
       "    }\n",
       "</style>\n",
       "<table border=\"1\" class=\"dataframe\">\n",
       "  <thead>\n",
       "    <tr style=\"text-align: right;\">\n",
       "      <th></th>\n",
       "      <th>Actor</th>\n",
       "      <th>Movie or TV Name</th>\n",
       "      <th>Number of Shared Actors</th>\n",
       "    </tr>\n",
       "  </thead>\n",
       "  <tbody>\n",
       "    <tr>\n",
       "      <th>176</th>\n",
       "      <td>Vivica A. Fox</td>\n",
       "      <td>Kill Bill: Vol. 1</td>\n",
       "      <td>38</td>\n",
       "    </tr>\n",
       "    <tr>\n",
       "      <th>54</th>\n",
       "      <td>Chiaki Kuriyama</td>\n",
       "      <td>Kill Bill: The Whole Bloody Affair</td>\n",
       "      <td>38</td>\n",
       "    </tr>\n",
       "    <tr>\n",
       "      <th>61</th>\n",
       "      <td>Issey Takahashi</td>\n",
       "      <td>Kill Bill: The Whole Bloody Affair</td>\n",
       "      <td>38</td>\n",
       "    </tr>\n",
       "    <tr>\n",
       "      <th>60</th>\n",
       "      <td>Yoshiko Yamaguchi</td>\n",
       "      <td>Kill Bill: The Whole Bloody Affair</td>\n",
       "      <td>38</td>\n",
       "    </tr>\n",
       "    <tr>\n",
       "      <th>59</th>\n",
       "      <td>Ronnie Yoshiko Fujiyama</td>\n",
       "      <td>Kill Bill: The Whole Bloody Affair</td>\n",
       "      <td>38</td>\n",
       "    </tr>\n",
       "    <tr>\n",
       "      <th>...</th>\n",
       "      <td>...</td>\n",
       "      <td>...</td>\n",
       "      <td>...</td>\n",
       "    </tr>\n",
       "    <tr>\n",
       "      <th>1524</th>\n",
       "      <td>Michael Madsen</td>\n",
       "      <td>Welcome to Acapulco</td>\n",
       "      <td>1</td>\n",
       "    </tr>\n",
       "    <tr>\n",
       "      <th>1525</th>\n",
       "      <td>Michael Madsen</td>\n",
       "      <td>Trading Paint</td>\n",
       "      <td>1</td>\n",
       "    </tr>\n",
       "    <tr>\n",
       "      <th>1526</th>\n",
       "      <td>Michael Madsen</td>\n",
       "      <td>Hangover in Death Valley</td>\n",
       "      <td>1</td>\n",
       "    </tr>\n",
       "    <tr>\n",
       "      <th>1527</th>\n",
       "      <td>Michael Madsen</td>\n",
       "      <td>Dead On Time</td>\n",
       "      <td>1</td>\n",
       "    </tr>\n",
       "    <tr>\n",
       "      <th>3771</th>\n",
       "      <td>Sō Yamanaka</td>\n",
       "      <td>Ping Pong Bath Station</td>\n",
       "      <td>1</td>\n",
       "    </tr>\n",
       "  </tbody>\n",
       "</table>\n",
       "<p>3772 rows × 3 columns</p>\n",
       "</div>"
      ],
      "text/plain": [
       "                        Actor                    Movie or TV Name  \\\n",
       "176             Vivica A. Fox                   Kill Bill: Vol. 1   \n",
       "54            Chiaki Kuriyama  Kill Bill: The Whole Bloody Affair   \n",
       "61            Issey Takahashi  Kill Bill: The Whole Bloody Affair   \n",
       "60          Yoshiko Yamaguchi  Kill Bill: The Whole Bloody Affair   \n",
       "59    Ronnie Yoshiko Fujiyama  Kill Bill: The Whole Bloody Affair   \n",
       "...                       ...                                 ...   \n",
       "1524           Michael Madsen                 Welcome to Acapulco   \n",
       "1525           Michael Madsen                       Trading Paint   \n",
       "1526           Michael Madsen            Hangover in Death Valley   \n",
       "1527           Michael Madsen                        Dead On Time   \n",
       "3771              Sō Yamanaka              Ping Pong Bath Station   \n",
       "\n",
       "      Number of Shared Actors  \n",
       "176                        38  \n",
       "54                         38  \n",
       "61                         38  \n",
       "60                         38  \n",
       "59                         38  \n",
       "...                       ...  \n",
       "1524                        1  \n",
       "1525                        1  \n",
       "1526                        1  \n",
       "1527                        1  \n",
       "3771                        1  \n",
       "\n",
       "[3772 rows x 3 columns]"
      ]
     },
     "execution_count": 11,
     "metadata": {},
     "output_type": "execute_result"
    }
   ],
   "source": [
    "merged_shared = pd.merge(killBill_actorsMovies, shared_actors,\n",
    "                        on = \"Movie or TV Name\")\n",
    "\n",
    "# sort by movies with the most to least number of shared actors\n",
    "merged_shared.sort_values(by = \"Number of Shared Actors\", \n",
    "                          ascending = False)"
   ]
  },
  {
   "cell_type": "markdown",
   "id": "e3d1bfd0",
   "metadata": {},
   "source": [
    "## Data Visualization "
   ]
  },
  {
   "cell_type": "markdown",
   "id": "2717c2a6",
   "metadata": {},
   "source": [
    "### Bar Graph 1 "
   ]
  },
  {
   "cell_type": "markdown",
   "id": "f0a7ddf3",
   "metadata": {},
   "source": [
    "This bar graph represents the amount of shared actors for each movie."
   ]
  },
  {
   "cell_type": "code",
   "execution_count": 12,
   "id": "eabf2c6a",
   "metadata": {},
   "outputs": [
    {
     "data": {
      "text/html": [
       "<iframe\n",
       "    scrolling=\"no\"\n",
       "    width=\"100%\"\n",
       "    height=\"545px\"\n",
       "    src=\"iframe_figures/figure_12.html\"\n",
       "    frameborder=\"0\"\n",
       "    allowfullscreen\n",
       "></iframe>\n"
      ]
     },
     "metadata": {},
     "output_type": "display_data"
    }
   ],
   "source": [
    "from plotly import express as px\n",
    "import plotly.io as pio\n",
    "pio.renderers.default = \"iframe\"\n",
    "\n",
    "actorWorksCount_fig = px.bar(merged_shared,\n",
    "                            x = \"Movie or TV Name\",\n",
    "                             y = \"Number of Shared Actors\",\n",
    "                             opacity = 1,\n",
    "                            title = \"Number of Shared Actors For Each Movie\")\n",
    "\n",
    "actorWorksCount_fig.update_layout(margin={\"r\":0,\"t\":50,\"l\":0,\"b\":0})\n",
    "actorWorksCount_fig.show()"
   ]
  },
  {
   "cell_type": "markdown",
   "id": "d6d3a4b3",
   "metadata": {},
   "source": [
    "### Bar Graph 2 "
   ]
  },
  {
   "cell_type": "markdown",
   "id": "8caf8718",
   "metadata": {},
   "source": [
    "This bar graph represents the amount of movies that each actor in Kill Bill has appeared in throughout their entire acting careers.  "
   ]
  },
  {
   "cell_type": "code",
   "execution_count": 13,
   "id": "7675d97e",
   "metadata": {},
   "outputs": [
    {
     "data": {
      "text/html": [
       "<iframe\n",
       "    scrolling=\"no\"\n",
       "    width=\"100%\"\n",
       "    height=\"545px\"\n",
       "    src=\"iframe_figures/figure_13.html\"\n",
       "    frameborder=\"0\"\n",
       "    allowfullscreen\n",
       "></iframe>\n"
      ]
     },
     "metadata": {},
     "output_type": "display_data"
    }
   ],
   "source": [
    "from plotly import express as px\n",
    "import plotly.io as pio\n",
    "pio.renderers.default = \"iframe\"\n",
    "\n",
    "actorWorksCount_fig = px.bar(merged_shared,\n",
    "                            x = \"Actor\",\n",
    "                            title = \"Number of Movies/TV Shows For Each Actor\")\n",
    "\n",
    "actorWorksCount_fig.update_layout(margin={\"r\":0,\"t\":50,\"l\":0,\"b\":0})\n",
    "actorWorksCount_fig.show()"
   ]
  },
  {
   "cell_type": "code",
   "execution_count": null,
   "id": "8292e4cb",
   "metadata": {},
   "outputs": [],
   "source": []
  }
 ],
 "metadata": {
  "kernelspec": {
   "display_name": "Python 3 (ipykernel)",
   "language": "python",
   "name": "python3"
  },
  "language_info": {
   "codemirror_mode": {
    "name": "ipython",
    "version": 3
   },
   "file_extension": ".py",
   "mimetype": "text/x-python",
   "name": "python",
   "nbconvert_exporter": "python",
   "pygments_lexer": "ipython3",
   "version": "3.11.5"
  }
 },
 "nbformat": 4,
 "nbformat_minor": 5
}
